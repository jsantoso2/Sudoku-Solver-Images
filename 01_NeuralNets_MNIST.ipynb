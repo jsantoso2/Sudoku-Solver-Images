{
 "cells": [
  {
   "cell_type": "code",
   "execution_count": 1,
   "metadata": {},
   "outputs": [
    {
     "name": "stderr",
     "output_type": "stream",
     "text": [
      "Using TensorFlow backend.\n"
     ]
    }
   ],
   "source": [
    "import tensorflow as tf\n",
    "from tensorflow import keras\n",
    "from tensorflow.keras.preprocessing.image import ImageDataGenerator\n",
    "from tensorflow.python.keras import layers, models, regularizers, activations\n",
    "from tensorflow.keras.callbacks import EarlyStopping, LearningRateScheduler, ReduceLROnPlateau\n",
    "from tensorflow.keras.models import model_from_json\n",
    "from tensorflow.keras.utils import to_categorical\n",
    "from keras.models import load_model\n",
    "\n",
    "\n",
    "import matplotlib.pyplot as plt\n",
    "import cv2\n",
    "import os\n",
    "import numpy as np\n",
    "import pandas as pd\n",
    "import seaborn as sns\n",
    "from sklearn.metrics import accuracy_score\n",
    "from sklearn.metrics import confusion_matrix\n",
    "from sklearn.model_selection import train_test_split"
   ]
  },
  {
   "cell_type": "code",
   "execution_count": 2,
   "metadata": {},
   "outputs": [],
   "source": [
    "# Chars74k dataset\n",
    "all_data = []\n",
    "all_labels = []\n",
    "\n",
    "for idx, elem in enumerate(os.listdir('dataset_nums')):\n",
    "    for idx2, elem2 in enumerate(os.listdir('dataset_nums/' + elem)):\n",
    "        curr_img = cv2.imread('dataset_nums/' + elem + '/' +  elem2)\n",
    "        curr_img = cv2.cvtColor(curr_img, cv2.COLOR_BGR2GRAY)         # Convert Images to Grayscale\n",
    "        curr_img = cv2.resize(curr_img,(28,28))   #resize\n",
    "        curr_img = 255 - curr_img   # turn black on white to white on black\n",
    "        all_data.append(curr_img)\n",
    "        all_labels.append(idx)\n",
    "\n",
    "all_data = np.array(all_data)\n",
    "all_labels = np.array(all_labels)"
   ]
  },
  {
   "cell_type": "code",
   "execution_count": 3,
   "metadata": {},
   "outputs": [],
   "source": [
    "# MNIST dataset\n",
    "(X_train_mnist, y_train_mnist), (X_test_mnist, y_test_mnist) = tf.keras.datasets.mnist.load_data()\n",
    "\n",
    "# sample 6000 randomly from train mnist\n",
    "np.random.seed(42)\n",
    "random_idx = np.random.choice(len(X_train_mnist), size=6000, replace=False)\n",
    "X_train_mnist_sample = X_train_mnist[random_idx]\n",
    "y_train_mnist_sample = y_train_mnist[random_idx]\n",
    "\n",
    "all_data = np.vstack((all_data, X_train_mnist_sample))\n",
    "all_labels = np.concatenate((all_labels, y_train_mnist_sample))"
   ]
  },
  {
   "cell_type": "code",
   "execution_count": 4,
   "metadata": {},
   "outputs": [],
   "source": [
    "# train test split\n",
    "X_train, X_test, y_train, y_test = train_test_split(all_data, all_labels, test_size=0.2, random_state=42)\n",
    "\n",
    "X_train = np.array(X_train)\n",
    "X_test = np.array(X_test)\n",
    "y_train = np.array(y_train)\n",
    "y_test = np.array(y_test)\n",
    "\n",
    "X_train = X_train.reshape(-1,28,28,1)\n",
    "X_test = X_test.reshape(-1,28,28,1)\n",
    "\n",
    "y_train = to_categorical(y_train, 10)\n",
    "y_test = to_categorical(y_test, 10)"
   ]
  },
  {
   "cell_type": "code",
   "execution_count": 7,
   "metadata": {},
   "outputs": [
    {
     "data": {
      "text/plain": [
       "<matplotlib.image.AxesImage at 0x15bb7d1fd08>"
      ]
     },
     "execution_count": 7,
     "metadata": {},
     "output_type": "execute_result"
    },
    {
     "data": {
      "image/png": "[encoded data removed]",
      "text/plain": [
       "<Figure size 432x288 with 1 Axes>"
      ]
     },
     "metadata": {
      "needs_background": "light"
     },
     "output_type": "display_data"
    }
   ],
   "source": [
    "# threshold binarization\n",
    "X_train = [cv2.threshold(elem,100, 255, cv2.THRESH_BINARY)[1] for elem in X_train]\n",
    "X_test = [cv2.threshold(elem,100, 255, cv2.THRESH_BINARY)[1] for elem in X_test]\n",
    "\n",
    "X_train = np.array(X_train).reshape(-1,28,28,1)\n",
    "X_test = np.array(X_test).reshape(-1,28,28,1)\n",
    "\n",
    "# rescale by divining all by 255\n",
    "X_train_resized = X_train / 255\n",
    "X_test_resized = X_test / 255\n",
    "\n",
    "#resized_image = cv2.resize(X_train[0], (21, 21)) \n",
    "plt.imshow(X_train_resized[0,:,:,0], 'gray')"
   ]
  },
  {
   "cell_type": "code",
   "execution_count": 8,
   "metadata": {},
   "outputs": [
    {
     "data": {
      "text/plain": [
       "<matplotlib.image.AxesImage at 0x15bb8420548>"
      ]
     },
     "execution_count": 8,
     "metadata": {},
     "output_type": "execute_result"
    },
    {
     "data": {
      "image/png": "[encoded data removed]",
      "text/plain": [
       "<Figure size 432x288 with 1 Axes>"
      ]
     },
     "metadata": {
      "needs_background": "light"
     },
     "output_type": "display_data"
    }
   ],
   "source": [
    "plt.imshow(X_test_resized[1,:,:,0], 'gray')"
   ]
  },
  {
   "cell_type": "code",
   "execution_count": 9,
   "metadata": {},
   "outputs": [],
   "source": [
    "# create image data generator\n",
    "train_datagen = ImageDataGenerator(\n",
    "    #rescale=1./255,\n",
    "    #featurewise_center = True,\n",
    "    #featurewise_std_normalization = True, \n",
    "    #shear_range=0.2,\n",
    "    width_shift_range = 0.1,\n",
    "    height_shift_range = 0.1,\n",
    "    rotation_range = 10,\n",
    "    zoom_range=0.1,\n",
    "    #horizontal_flip=True,\n",
    "    vertical_flip=True)\n",
    "\n",
    "#test_datagen = ImageDataGenerator(rescale=1./255)\n",
    "\n",
    "# create train data generator\n",
    "train_generator = train_datagen.flow(\n",
    "    x=X_train_resized,\n",
    "    y=y_train,\n",
    "    batch_size=128,\n",
    "    shuffle=True,\n",
    "    sample_weight=None,\n",
    "    seed=42,\n",
    "    save_to_dir=None,\n",
    "    save_prefix=\"\",\n",
    "    subset=None)"
   ]
  },
  {
   "cell_type": "code",
   "execution_count": 10,
   "metadata": {},
   "outputs": [],
   "source": [
    "model = keras.Sequential()\n",
    "\n",
    "model.add(layers.Conv2D(filters=32, kernel_size=(3, 3), activation='relu', input_shape=(28,28,1)))\n",
    "model.add(layers.Conv2D(filters=64, kernel_size=(3, 3), activation='relu'))\n",
    "model.add(layers.MaxPooling2D())\n",
    "model.add(layers.Conv2D(filters=64, kernel_size=(3, 3), activation='relu'))\n",
    "model.add(layers.MaxPooling2D())\n",
    "model.add(layers.Flatten())\n",
    "model.add(layers.BatchNormalization())\n",
    "model.add(layers.Dense(units=120, activation='relu'))\n",
    "model.add(layers.BatchNormalization())\n",
    "model.add(layers.Dense(units=84, activation='relu'))\n",
    "model.add(layers.BatchNormalization())\n",
    "model.add(layers.Dense(units=10, activation = 'softmax'))"
   ]
  },
  {
   "cell_type": "code",
   "execution_count": 11,
   "metadata": {},
   "outputs": [
    {
     "name": "stdout",
     "output_type": "stream",
     "text": [
      "Model: \"sequential\"\n",
      "_________________________________________________________________\n",
      "Layer (type)                 Output Shape              Param #   \n",
      "=================================================================\n",
      "conv2d (Conv2D)              (None, 26, 26, 32)        320       \n",
      "_________________________________________________________________\n",
      "conv2d_1 (Conv2D)            (None, 24, 24, 64)        18496     \n",
      "_________________________________________________________________\n",
      "max_pooling2d (MaxPooling2D) (None, 12, 12, 64)        0         \n",
      "_________________________________________________________________\n",
      "conv2d_2 (Conv2D)            (None, 10, 10, 64)        36928     \n",
      "_________________________________________________________________\n",
      "max_pooling2d_1 (MaxPooling2 (None, 5, 5, 64)          0         \n",
      "_________________________________________________________________\n",
      "flatten (Flatten)            (None, 1600)              0         \n",
      "_________________________________________________________________\n",
      "batch_normalization (BatchNo (None, 1600)              6400      \n",
      "_________________________________________________________________\n",
      "dense (Dense)                (None, 120)               192120    \n",
      "_________________________________________________________________\n",
      "batch_normalization_1 (Batch (None, 120)               480       \n",
      "_________________________________________________________________\n",
      "dense_1 (Dense)              (None, 84)                10164     \n",
      "_________________________________________________________________\n",
      "batch_normalization_2 (Batch (None, 84)                336       \n",
      "_________________________________________________________________\n",
      "dense_2 (Dense)              (None, 10)                850       \n",
      "=================================================================\n",
      "Total params: 266,094\n",
      "Trainable params: 262,486\n",
      "Non-trainable params: 3,608\n",
      "_________________________________________________________________\n"
     ]
    }
   ],
   "source": [
    "model.summary()"
   ]
  },
  {
   "cell_type": "code",
   "execution_count": 12,
   "metadata": {},
   "outputs": [
    {
     "data": {
      "image/png": "[encoded data removed]",
      "text/plain": [
       "<Figure size 720x720 with 9 Axes>"
      ]
     },
     "metadata": {
      "needs_background": "light"
     },
     "output_type": "display_data"
    }
   ],
   "source": [
    "i = 0\n",
    "plt.figure(figsize=(10,10))\n",
    "\n",
    "test_img = X_test_resized[0].reshape(1,28,28,1)\n",
    "\n",
    "train_datagen.fit(test_img, augment = True)\n",
    "\n",
    "for img_batch in train_datagen.flow(test_img, batch_size=9):\n",
    "    for img in img_batch:        \n",
    "        ax = plt.subplot(3,3 ,i+1)\n",
    "        im = ax.imshow(img[:,:,0], 'gray')\n",
    "        i = i + 1\n",
    "        \n",
    "    if i >= 9:\n",
    "        break"
   ]
  },
  {
   "cell_type": "code",
   "execution_count": 13,
   "metadata": {},
   "outputs": [],
   "source": [
    "# early stopping\n",
    "earlystop = EarlyStopping(monitor='val_accuracy', patience=5, verbose=1, mode='auto', restore_best_weights=True)\n",
    "\n",
    "# learning rate scheduler\n",
    "def scheduler(epoch):\n",
    "    if epoch < 10:\n",
    "        return 0.001\n",
    "    else:\n",
    "        return 0.001 * tf.math.exp(0.1 * (10 - epoch))\n",
    "\n",
    "    \n",
    "#variable_learning_rate = ReduceLROnPlateau(monitor='val_loss', factor = 0.2, patience = 2)\n",
    "    \n",
    "# list of callbacks\n",
    "callbacks_list = [earlystop, LearningRateScheduler(scheduler)]\n",
    "\n",
    "model.compile(optimizer='adam', loss='categorical_crossentropy', metrics=['accuracy'])"
   ]
  },
  {
   "cell_type": "code",
   "execution_count": 15,
   "metadata": {},
   "outputs": [
    {
     "name": "stdout",
     "output_type": "stream",
     "text": [
      "Epoch 1/100\n",
      "101/101 [==============================] - 19s 188ms/step - loss: 0.3005 - accuracy: 0.9141 - val_loss: 1.7506 - val_accuracy: 0.1965 - lr: 0.0010\n",
      "Epoch 2/100\n",
      "101/101 [==============================] - 21s 206ms/step - loss: 0.0608 - accuracy: 0.9858 - val_loss: 1.3751 - val_accuracy: 0.4131 - lr: 0.0010\n",
      "Epoch 3/100\n",
      "101/101 [==============================] - 21s 211ms/step - loss: 0.0276 - accuracy: 0.9940 - val_loss: 0.7591 - val_accuracy: 0.7506 - lr: 0.0010\n",
      "Epoch 4/100\n",
      "101/101 [==============================] - 21s 209ms/step - loss: 0.0145 - accuracy: 0.9973 - val_loss: 0.2214 - val_accuracy: 0.9604 - lr: 0.0010\n",
      "Epoch 5/100\n",
      "101/101 [==============================] - 21s 209ms/step - loss: 0.0082 - accuracy: 0.9987 - val_loss: 0.0833 - val_accuracy: 0.9817 - lr: 0.0010\n",
      "Epoch 6/100\n",
      "101/101 [==============================] - 21s 211ms/step - loss: 0.0060 - accuracy: 0.9993 - val_loss: 0.0495 - val_accuracy: 0.9855 - lr: 0.0010\n",
      "Epoch 7/100\n",
      "101/101 [==============================] - 21s 211ms/step - loss: 0.0051 - accuracy: 0.9994 - val_loss: 0.0426 - val_accuracy: 0.9876 - lr: 0.0010\n",
      "Epoch 8/100\n",
      "101/101 [==============================] - 22s 215ms/step - loss: 0.0071 - accuracy: 0.9984 - val_loss: 0.0567 - val_accuracy: 0.9842 - lr: 0.0010\n",
      "Epoch 9/100\n",
      "101/101 [==============================] - 21s 210ms/step - loss: 0.0066 - accuracy: 0.9985 - val_loss: 0.0570 - val_accuracy: 0.9821 - lr: 0.0010\n",
      "Epoch 10/100\n",
      "101/101 [==============================] - 22s 217ms/step - loss: 0.0050 - accuracy: 0.9991 - val_loss: 0.0443 - val_accuracy: 0.9867 - lr: 0.0010\n",
      "Epoch 11/100\n",
      "101/101 [==============================] - 22s 215ms/step - loss: 0.0015 - accuracy: 1.0000 - val_loss: 0.0389 - val_accuracy: 0.9889 - lr: 0.0010\n",
      "Epoch 12/100\n",
      "101/101 [==============================] - 21s 212ms/step - loss: 6.9479e-04 - accuracy: 1.0000 - val_loss: 0.0341 - val_accuracy: 0.9907 - lr: 9.0484e-04\n",
      "Epoch 13/100\n",
      "101/101 [==============================] - 21s 213ms/step - loss: 4.8055e-04 - accuracy: 1.0000 - val_loss: 0.0328 - val_accuracy: 0.9907 - lr: 8.1873e-04\n",
      "Epoch 14/100\n",
      "101/101 [==============================] - 21s 213ms/step - loss: 3.3962e-04 - accuracy: 1.0000 - val_loss: 0.0318 - val_accuracy: 0.9910 - lr: 7.4082e-04\n",
      "Epoch 15/100\n",
      "101/101 [==============================] - 21s 211ms/step - loss: 3.4196e-04 - accuracy: 1.0000 - val_loss: 0.0319 - val_accuracy: 0.9907 - lr: 6.7032e-04\n",
      "Epoch 16/100\n",
      "101/101 [==============================] - 22s 216ms/step - loss: 2.9031e-04 - accuracy: 1.0000 - val_loss: 0.0325 - val_accuracy: 0.9907 - lr: 6.0653e-04\n",
      "Epoch 17/100\n",
      "101/101 [==============================] - 22s 214ms/step - loss: 2.7831e-04 - accuracy: 1.0000 - val_loss: 0.0320 - val_accuracy: 0.9913 - lr: 5.4881e-04\n",
      "Epoch 18/100\n",
      "101/101 [==============================] - 21s 211ms/step - loss: 2.5848e-04 - accuracy: 1.0000 - val_loss: 0.0321 - val_accuracy: 0.9910 - lr: 4.9659e-04\n",
      "Epoch 19/100\n",
      "101/101 [==============================] - 21s 212ms/step - loss: 2.3623e-04 - accuracy: 1.0000 - val_loss: 0.0322 - val_accuracy: 0.9904 - lr: 4.4933e-04\n",
      "Epoch 20/100\n",
      "101/101 [==============================] - 21s 209ms/step - loss: 2.0754e-04 - accuracy: 1.0000 - val_loss: 0.0312 - val_accuracy: 0.9916 - lr: 4.0657e-04\n",
      "Epoch 21/100\n",
      "101/101 [==============================] - 21s 211ms/step - loss: 1.8769e-04 - accuracy: 1.0000 - val_loss: 0.0311 - val_accuracy: 0.9913 - lr: 3.6788e-04\n",
      "Epoch 22/100\n",
      "101/101 [==============================] - 22s 215ms/step - loss: 2.0912e-04 - accuracy: 1.0000 - val_loss: 0.0311 - val_accuracy: 0.9910 - lr: 3.3287e-04\n",
      "Epoch 23/100\n",
      "101/101 [==============================] - 22s 213ms/step - loss: 1.8449e-04 - accuracy: 1.0000 - val_loss: 0.0315 - val_accuracy: 0.9907 - lr: 3.0119e-04\n",
      "Epoch 24/100\n",
      "101/101 [==============================] - 21s 212ms/step - loss: 1.8629e-04 - accuracy: 1.0000 - val_loss: 0.0310 - val_accuracy: 0.9916 - lr: 2.7253e-04\n",
      "Epoch 25/100\n",
      "101/101 [==============================] - ETA: 0s - loss: 1.9930e-04 - accuracy: 1.0000Restoring model weights from the end of the best epoch.\n",
      "101/101 [==============================] - 22s 217ms/step - loss: 1.9930e-04 - accuracy: 1.0000 - val_loss: 0.0308 - val_accuracy: 0.9916 - lr: 2.4660e-04\n",
      "Epoch 00025: early stopping\n"
     ]
    }
   ],
   "source": [
    "# fit model\n",
    "history = model.fit(\n",
    "      x = train_generator,\n",
    "      #x = X_train_resized,\n",
    "      #y = y_train,\n",
    "      batch_size = 128,\n",
    "      epochs=100,\n",
    "      validation_data = (X_test_resized, y_test),\n",
    "      verbose=1,\n",
    "      callbacks=callbacks_list)"
   ]
  },
  {
   "cell_type": "code",
   "execution_count": 16,
   "metadata": {},
   "outputs": [
    {
     "data": {
      "image/png": "[encoded data removed]",
      "text/plain": [
       "<Figure size 432x288 with 1 Axes>"
      ]
     },
     "metadata": {
      "needs_background": "light"
     },
     "output_type": "display_data"
    }
   ],
   "source": [
    "plt.plot(history.history['accuracy'])\n",
    "plt.plot(history.history['val_accuracy'])\n",
    "plt.title('model accuracy')\n",
    "plt.ylabel('accuracy')\n",
    "plt.xlabel('epoch')\n",
    "plt.legend(['train', 'val'], loc='upper left')\n",
    "plt.show()"
   ]
  },
  {
   "cell_type": "code",
   "execution_count": 17,
   "metadata": {},
   "outputs": [
    {
     "data": {
      "image/png": "[encoded data removed]",
      "text/plain": [
       "<Figure size 432x288 with 1 Axes>"
      ]
     },
     "metadata": {
      "needs_background": "light"
     },
     "output_type": "display_data"
    }
   ],
   "source": [
    "plt.plot(history.history['loss'])\n",
    "plt.plot(history.history['val_loss'])\n",
    "plt.title('model loss')\n",
    "plt.ylabel('loss')\n",
    "plt.xlabel('epoch')\n",
    "plt.legend(['train', 'val'], loc='upper left')\n",
    "plt.show()"
   ]
  },
  {
   "cell_type": "code",
   "execution_count": 15,
   "metadata": {},
   "outputs": [
    {
     "name": "stdout",
     "output_type": "stream",
     "text": [
      "WARNING:tensorflow:From <ipython-input-15-c405cdb64df5>:5: Sequential.predict_classes (from tensorflow.python.keras.engine.sequential) is deprecated and will be removed after 2021-01-01.\n",
      "Instructions for updating:\n",
      "Please use instead:* `np.argmax(model.predict(x), axis=-1)`,   if your model does multi-class classification   (e.g. if it uses a `softmax` last-layer activation).* `(model.predict(x) > 0.5).astype(\"int32\")`,   if your model does binary classification   (e.g. if it uses a `sigmoid` last-layer activation).\n"
     ]
    }
   ],
   "source": [
    "def do_prediction(model, data):\n",
    "    y_pred = []\n",
    "\n",
    "    for ind, elem in enumerate(data):\n",
    "        pred = model.predict_classes(data[ind:ind+1,:,:,:])\n",
    "        y_pred.append(pred[0])\n",
    "    \n",
    "    return y_pred\n",
    "\n",
    "y_pred = do_prediction(model, X_test_resized)"
   ]
  },
  {
   "cell_type": "code",
   "execution_count": 16,
   "metadata": {},
   "outputs": [
    {
     "name": "stdout",
     "output_type": "stream",
     "text": [
      "Accuracy Score:  0.9894\n"
     ]
    }
   ],
   "source": [
    "y_test_true = np.argmax(y_test, axis=1)\n",
    "print('Accuracy Score: ', accuracy_score(y_test_true, y_pred))"
   ]
  },
  {
   "cell_type": "code",
   "execution_count": 17,
   "metadata": {},
   "outputs": [
    {
     "data": {
      "text/plain": [
       "<matplotlib.axes._subplots.AxesSubplot at 0x281a1cb2b48>"
      ]
     },
     "execution_count": 17,
     "metadata": {},
     "output_type": "execute_result"
    },
    {
     "data": {
      "image/png": "[encoded data removed]",
      "text/plain": [
       "<Figure size 720x504 with 2 Axes>"
      ]
     },
     "metadata": {
      "needs_background": "light"
     },
     "output_type": "display_data"
    }
   ],
   "source": [
    "def generate_conf_mat_df(y_true, y_pred, normalize = 'true'):\n",
    "    conf_mat = confusion_matrix(y_true, y_pred, normalize = normalize)\n",
    "    df_cm = pd.DataFrame(conf_mat, index = [i for i in list(range(10))],\n",
    "                  columns = [i for i in list(range(10))])\n",
    "\n",
    "    df_cm = df_cm * 100\n",
    "    df_cm = df_cm.round(1)\n",
    "    return df_cm\n",
    "\n",
    "df_cm = generate_conf_mat_df(y_test_true, y_pred)\n",
    "\n",
    "plt.figure(figsize = (10,7))\n",
    "plt.title('Confusion Matrix for Classification')\n",
    "sns.heatmap(df_cm, annot=True)"
   ]
  },
  {
   "cell_type": "code",
   "execution_count": 18,
   "metadata": {},
   "outputs": [],
   "source": [
    "# save model as hdf5 file\n",
    "model.save('digit_recognizer.h5')"
   ]
  },
  {
   "cell_type": "code",
   "execution_count": 19,
   "metadata": {},
   "outputs": [
    {
     "name": "stdout",
     "output_type": "stream",
     "text": [
      "Model: \"sequential\"\n",
      "_________________________________________________________________\n",
      "Layer (type)                 Output Shape              Param #   \n",
      "=================================================================\n",
      "conv2d (Conv2D)              (None, 26, 26, 32)        320       \n",
      "_________________________________________________________________\n",
      "conv2d_1 (Conv2D)            (None, 24, 24, 64)        18496     \n",
      "_________________________________________________________________\n",
      "max_pooling2d (MaxPooling2D) (None, 12, 12, 64)        0         \n",
      "_________________________________________________________________\n",
      "conv2d_2 (Conv2D)            (None, 10, 10, 64)        36928     \n",
      "_________________________________________________________________\n",
      "max_pooling2d_1 (MaxPooling2 (None, 5, 5, 64)          0         \n",
      "_________________________________________________________________\n",
      "flatten (Flatten)            (None, 1600)              0         \n",
      "_________________________________________________________________\n",
      "batch_normalization (BatchNo (None, 1600)              6400      \n",
      "_________________________________________________________________\n",
      "dense (Dense)                (None, 120)               192120    \n",
      "_________________________________________________________________\n",
      "batch_normalization_1 (Batch (None, 120)               480       \n",
      "_________________________________________________________________\n",
      "dense_1 (Dense)              (None, 84)                10164     \n",
      "_________________________________________________________________\n",
      "batch_normalization_2 (Batch (None, 84)                336       \n",
      "_________________________________________________________________\n",
      "dense_2 (Dense)              (None, 10)                850       \n",
      "=================================================================\n",
      "Total params: 266,094\n",
      "Trainable params: 262,486\n",
      "Non-trainable params: 3,608\n",
      "_________________________________________________________________\n"
     ]
    }
   ],
   "source": [
    "model2 = tf.keras.models.load_model('digit_recognizer.h5')\n",
    "model2.summary()"
   ]
  },
  {
   "cell_type": "code",
   "execution_count": 20,
   "metadata": {},
   "outputs": [
    {
     "name": "stdout",
     "output_type": "stream",
     "text": [
      "WARNING:tensorflow:From <ipython-input-20-53cd341f0880>:1: Sequential.predict_classes (from tensorflow.python.keras.engine.sequential) is deprecated and will be removed after 2021-01-01.\n",
      "Instructions for updating:\n",
      "Please use instead:* `np.argmax(model.predict(x), axis=-1)`,   if your model does multi-class classification   (e.g. if it uses a `softmax` last-layer activation).* `(model.predict(x) > 0.5).astype(\"int32\")`,   if your model does binary classification   (e.g. if it uses a `sigmoid` last-layer activation).\n"
     ]
    },
    {
     "data": {
      "text/plain": [
       "1"
      ]
     },
     "execution_count": 20,
     "metadata": {},
     "output_type": "execute_result"
    }
   ],
   "source": [
    "model2.predict_classes(X_test_resized[0:1,:,:,:])[0]"
   ]
  },
  {
   "cell_type": "code",
   "execution_count": 22,
   "metadata": {},
   "outputs": [
    {
     "data": {
      "text/plain": [
       "<matplotlib.image.AxesImage at 0x15bcbbd9848>"
      ]
     },
     "execution_count": 22,
     "metadata": {},
     "output_type": "execute_result"
    },
    {
     "data": {
      "image/png": "[encoded data removed]",
      "text/plain": [
       "<Figure size 432x288 with 1 Axes>"
      ]
     },
     "metadata": {
      "needs_background": "light"
     },
     "output_type": "display_data"
    }
   ],
   "source": [
    "plt.imshow(X_test_resized[0:1,:,:,0].reshape(28,28), 'gray')"
   ]
  },
  {
   "cell_type": "code",
   "execution_count": null,
   "metadata": {},
   "outputs": [],
   "source": []
  }
 ],
 "metadata": {
  "kernelspec": {
   "display_name": "Python 3",
   "language": "python",
   "name": "python3"
  },
  "language_info": {
   "codemirror_mode": {
    "name": "ipython",
    "version": 3
   },
   "file_extension": ".py",
   "mimetype": "text/x-python",
   "name": "python",
   "nbconvert_exporter": "python",
   "pygments_lexer": "ipython3",
   "version": "3.7.6"
  }
 },
 "nbformat": 4,
 "nbformat_minor": 4
}

{
 "cells": [
  {
   "cell_type": "code",
   "execution_count": 1,
   "metadata": {},
   "outputs": [
    {
     "name": "stderr",
     "output_type": "stream",
     "text": [
      "Using TensorFlow backend.\n"
     ]
    }
   ],
   "source": [
    "import os\n",
    "import numpy as np\n",
    "import cv2\n",
    "from matplotlib import pyplot as plt\n",
    "\n",
    "import tensorflow as tf\n",
    "from tensorflow import keras\n",
    "from keras.models import load_model"
   ]
  },
  {
   "cell_type": "code",
   "execution_count": 2,
   "metadata": {},
   "outputs": [],
   "source": [
    "# does initial image preprocessing (blurring, remove noise, convert black background white text)\n",
    "def initial_preprocess(img_path, gaussian_blur = 0):\n",
    "    # read image in grayscale\n",
    "    img = cv2.imread(img_path, cv2.IMREAD_GRAYSCALE)\n",
    "    orig = img.copy()\n",
    "    \n",
    "    # Do Gaussian Blur in order to remove noise\n",
    "    if gaussian_blur != 0:\n",
    "        img = cv2.GaussianBlur(img, (gaussian_blur, gaussian_blur), 0)\n",
    "    \n",
    "    # do adaptive thresholding and convert images to binary\n",
    "    img = cv2.adaptiveThreshold(img,255,cv2.ADAPTIVE_THRESH_GAUSSIAN_C,\\\n",
    "                 cv2.THRESH_BINARY,11,2)\n",
    "\n",
    "    # convert to black on white \n",
    "    img = cv2.bitwise_not(img, img)\n",
    "\n",
    "    # dilate the gridlines\n",
    "    #kernel = np.array([[0., 1., 0.], [1., 1., 1.], [0., 1., 0.]],np.uint8)\n",
    "    #img = cv2.dilate(img, kernel)\n",
    "    \n",
    "    # find contours (Sudoku Grid)\n",
    "    contours,hierarchy = cv2.findContours(img, 1, 2)\n",
    "    contours = sorted(contours, key=cv2.contourArea, reverse=True) # sort contours by area\n",
    "    polygon_arr = contours[0:5]  # extract up to 5 sudoku grid at once\n",
    "\n",
    "    cropped_arr = []\n",
    "    cropped_arr_orig = []\n",
    "    bbox_arr = []\n",
    "    orig_gray = img.copy()\n",
    "    \n",
    "    # enumerate to draw rectangle and crop\n",
    "    for polygon in polygon_arr:\n",
    "        x,y,w,h = cv2.boundingRect(polygon)\n",
    "        cv2.rectangle(img,(x,y),(x+w,y+h),(0,255,0),2)\n",
    "        bbox_arr.append((x,y,w,h))\n",
    "        cropped_arr.append(orig_gray[y:y+h, x:x+w])\n",
    "        cropped_arr_orig.append(orig[y:y+h, x:x+w])\n",
    "    \n",
    "    return cropped_arr, cropped_arr_orig, bbox_arr"
   ]
  },
  {
   "cell_type": "code",
   "execution_count": 3,
   "metadata": {},
   "outputs": [],
   "source": [
    "# find all the edges that are rectangular and returns them\n",
    "def find_edges(cropped_arr):\n",
    "    all_edges = []\n",
    "    \n",
    "    for i in range(5):\n",
    "        # detect edges\n",
    "        img1 = cropped_arr[i].copy()\n",
    "\n",
    "        # find contours (Sudoku Grid)\n",
    "        contours,hierarchy = cv2.findContours(img1, 1, 2)\n",
    "        contours = sorted(contours, key=cv2.contourArea, reverse=True) # sort contours by area\n",
    "        polygon = np.array(contours[0]).reshape(-1,2) #take the largest contour region\n",
    "\n",
    "        sums = [elem[0] + elem[1] for elem in polygon] # X + Y\n",
    "        diff1 = [elem[0] - elem[1] for elem in polygon] # X - Y\n",
    "\n",
    "        top_left = np.argmin(sums) # smallest X + Y values\n",
    "        bottom_right = np.argmax(sums) # largest X + Y values\n",
    "        bottom_left = np.argmin(diff1) # smallest X - Y values\n",
    "        top_right = np.argmax(diff1) # largest X - Y values\n",
    "\n",
    "        # convert to tuple\n",
    "        edges = [tuple(polygon[top_left]), tuple(polygon[top_right]), \n",
    "                 tuple(polygon[bottom_right]), tuple(polygon[bottom_left])]\n",
    "        all_edges.append(edges)\n",
    "\n",
    "        # draw edges with gray circle\n",
    "        #for elem_edge in edges:\n",
    "        #    cv2.circle(img1, elem_edge, 3, (100,100,255), 2)\n",
    "    \n",
    "    return all_edges"
   ]
  },
  {
   "cell_type": "code",
   "execution_count": 4,
   "metadata": {},
   "outputs": [],
   "source": [
    "# check if there are any valid sudoku\n",
    "def find_valid_sudoku(all_edges, cropped_arr_orig):\n",
    "    # filter only valid images\n",
    "    valid_sudoku_images = list(range(5))\n",
    "    to_remove = []\n",
    "\n",
    "    # check if edges are within 50 pixels in the corner.\n",
    "    for elem in valid_sudoku_images:\n",
    "        if all_edges[elem][0][0] > 50 or all_edges[elem][0][1] > 50: # top left of image not very close to edge\n",
    "            to_remove.append(elem)\n",
    "\n",
    "    valid_sudoku_images = [x for x in valid_sudoku_images if x not in to_remove]  # remove invalid\n",
    "\n",
    "    img_size_area = [elem.shape[0] * elem.shape[1] for elem in cropped_arr_orig] # find area\n",
    "    max_area = np.max(img_size_area) # get maximum area\n",
    "    for elem in valid_sudoku_images:\n",
    "        if img_size_area[elem] / max_area < 0.5: # less than 50% of max area\n",
    "            to_remove.append(elem)\n",
    "\n",
    "    valid_sudoku_images = [x for x in valid_sudoku_images if x not in to_remove] # remove invalid\n",
    "    \n",
    "    # if no valid boxes are found just add the first box (most probably correct)\n",
    "    if len(valid_sudoku_images) == 0:\n",
    "        valid_sudoku_images.append(0)\n",
    "        all_edges = []\n",
    "        h,w = cropped_arr_orig[0].shape\n",
    "        all_edges = [[(0,0), (h,0), (h,w), (0,w)],]\n",
    "    \n",
    "    return valid_sudoku_images"
   ]
  },
  {
   "cell_type": "code",
   "execution_count": 5,
   "metadata": {},
   "outputs": [],
   "source": [
    "def distance_between(p1, p2):\n",
    "    \"\"\"Returns the euclidean distance between two points\"\"\"\n",
    "    a = p2[0] - p1[0]\n",
    "    b = p2[1] - p1[1]\n",
    "    return np.sqrt((a ** 2) + (b ** 2))\n",
    "\n",
    "# warp the image into perspective\n",
    "def warped_image(all_edges, cropped_arr_orig, valid_sudoku_images):\n",
    "    all_M = []\n",
    "    final_proc = []\n",
    "    \n",
    "    for idx, elem in enumerate(valid_sudoku_images): \n",
    "        # extract edges\n",
    "        top_left, top_right, bottom_right, bottom_left = all_edges[elem][0], all_edges[elem][1], all_edges[elem][2], all_edges[elem][3]\n",
    "\n",
    "        # get longest edge of rectangle to warp\n",
    "        side = max([distance_between(top_left, top_right), \n",
    "                     distance_between(top_right, bottom_right),\n",
    "                     distance_between(bottom_right, bottom_left),\n",
    "                     distance_between(bottom_left, top_left),\n",
    "                    ])\n",
    "\n",
    "        # Describe a square with side of the calculated length, this is the new perspective we want to warp to\n",
    "        pts2 = np.array([[0, 0], [side - 1, 0], [side - 1, side - 1], [0, side - 1]], dtype='float32')\n",
    "\n",
    "        # transforms image from tilted to straight\n",
    "        pts1 = np.float32(all_edges[elem])\n",
    "\n",
    "        # M is matrix for transformation\n",
    "        M = cv2.getPerspectiveTransform(pts1,pts2)\n",
    "        all_M.append(M)\n",
    "\n",
    "        # output\n",
    "        dst = cv2.warpPerspective(cropped_arr_orig[idx],M,(int(side),int(side)))\n",
    "        final_proc.append(dst)\n",
    "    \n",
    "    return final_proc, all_M"
   ]
  },
  {
   "cell_type": "code",
   "execution_count": 6,
   "metadata": {},
   "outputs": [],
   "source": [
    "# post process the warped image\n",
    "def post_process_warped(final_proc, gauss_blur = 0):\n",
    "    final_proc_final = []\n",
    "    # preproces finalboard\n",
    "    for elem in final_proc:\n",
    "        if gauss_blur != 0:\n",
    "            # gaussian blur\n",
    "            proc = cv2.GaussianBlur(elem.copy(), (gauss_blur, gauss_blur), 0)\n",
    "        else:\n",
    "            proc = elem.copy()\n",
    "        \n",
    "        # Adaptive threshold using 11 nearest neighbour pixels\n",
    "        proc = cv2.adaptiveThreshold(proc, 255, cv2.ADAPTIVE_THRESH_GAUSSIAN_C, cv2.THRESH_BINARY, 11, 2)\n",
    "\n",
    "        # Invert colours, so gridlines have non-zero pixel values.\n",
    "        # Necessary to dilate the image, otherwise will look like erosion instead.\n",
    "        proc = cv2.bitwise_not(proc, proc)\n",
    "        #kernel = np.array([[0., 1., 0.], [1., 1., 1.], [0., 1., 0.]],np.uint8)\n",
    "        #proc = cv2.dilate(proc, kernel)\n",
    "\n",
    "        final_proc_final.append(proc)\n",
    "    return final_proc_final"
   ]
  },
  {
   "cell_type": "code",
   "execution_count": 7,
   "metadata": {},
   "outputs": [],
   "source": [
    "# find bounding box of digits\n",
    "def find_bounding_box(inp_img, scan_top_left, scan_bot_right):\n",
    "    img = inp_img.copy()\n",
    "    h, w = img.shape\n",
    "\n",
    "    max_area = 0\n",
    "    seed_point = (None, None)\n",
    "\n",
    "    # Loop through the image\n",
    "    for x in range(scan_top_left[0], scan_bot_right[0]):\n",
    "        for y in range(scan_top_left[1], scan_bot_right[1]):\n",
    "            # if current square is white, fill it with grey\n",
    "            # flood fill converts neighboring pixels with similar color to white\n",
    "            if img.item(y, x) == 255 and x < w and y < h:  # Note that .item() appears to take input as y, x\n",
    "                area = cv2.floodFill(img, None, (x, y), 64)\n",
    "                if area[0] > max_area:  # Gets the maximum bound area which should be the grid, and set start pt\n",
    "                    max_area = area[0]\n",
    "                    seed_point = (x, y)\n",
    "\n",
    "    # Colour everything grey (compensates for features outside of our middle scanning range)\n",
    "    for x in range(w):\n",
    "        for y in range(h):\n",
    "            if img.item(y, x) == 255 and x < w and y < h:\n",
    "                cv2.floodFill(img, None, (x, y), 64)\n",
    "\n",
    "    mask = np.zeros((h + 2, w + 2), np.uint8)  # Mask that is 2 pixels bigger than the image (from documentation)\n",
    "\n",
    "    # Highlight the main feature, fill it with white\n",
    "    if all([p is not None for p in seed_point]):\n",
    "        cv2.floodFill(img, mask, seed_point, 255)\n",
    "\n",
    "    top, bottom, left, right = h, 0, w, 0\n",
    "    \n",
    "    # fill those that are grey with black to hide anything that is not the main feature\n",
    "    for x in range(w):\n",
    "        for y in range(h):\n",
    "            if img.item(y, x) == 64:  # Hide anything that isn't the main feature\n",
    "                cv2.floodFill(img, mask, (x, y), 0)\n",
    "            \n",
    "            # Find the bounding parameters (find the last contiguous x and y)\n",
    "            if img.item(y, x) == 255:\n",
    "                top = y if y < top else top\n",
    "                bottom = y if y > bottom else bottom\n",
    "                left = x if x < left else left\n",
    "                right = x if x > right else right\n",
    "\n",
    "    # returns the bounding box of the characters\n",
    "    return left, top, right, bottom"
   ]
  },
  {
   "cell_type": "code",
   "execution_count": 8,
   "metadata": {},
   "outputs": [],
   "source": [
    "# scale the digits\n",
    "def scale_and_centre(img, size, margin=0, background=0):\n",
    "    \"\"\"Scales and centres an image onto a new background square.\"\"\"\n",
    "    h, w = img.shape\n",
    "\n",
    "    def centre_pad(length):\n",
    "        \"\"\"Handles centering for a given length that may be odd or even.\"\"\"\n",
    "        if length % 2 == 0:\n",
    "            side1 = int((size - length) / 2)\n",
    "            side2 = side1\n",
    "        else:\n",
    "            side1 = int((size - length) / 2)\n",
    "            side2 = side1 + 1\n",
    "        return side1, side2\n",
    "\n",
    "    def scale(r, x):\n",
    "        return int(r * x)\n",
    "    \n",
    "    # if height greater than width, need to scale appropriately\n",
    "    if h > w:\n",
    "        t_pad = int(margin / 2)\n",
    "        b_pad = t_pad\n",
    "        ratio = (size - margin) / h\n",
    "        w, h = scale(ratio, w), scale(ratio, h)\n",
    "        l_pad, r_pad = centre_pad(w)\n",
    "    else:\n",
    "        l_pad = int(margin / 2)\n",
    "        r_pad = l_pad\n",
    "        ratio = (size - margin) / w\n",
    "        w, h = scale(ratio, w), scale(ratio, h)\n",
    "        t_pad, b_pad = centre_pad(h)\n",
    "\n",
    "    img = cv2.resize(img, (w, h))\n",
    "    img = cv2.copyMakeBorder(img, t_pad, b_pad, l_pad, r_pad, cv2.BORDER_CONSTANT, None, background)\n",
    "    return cv2.resize(img, (size, size))"
   ]
  },
  {
   "cell_type": "code",
   "execution_count": 9,
   "metadata": {},
   "outputs": [],
   "source": [
    "# split the images into cells\n",
    "def process_to_cell(final_proc):\n",
    "    # split into 9x9 grids\n",
    "    board_arr = []\n",
    "    for board in final_proc:\n",
    "        one_side_length = board.shape[0] / 9\n",
    "        temp = []\n",
    "        for i in range(9):\n",
    "            lc = int(i * one_side_length)\n",
    "            for j in range(9):\n",
    "                rc = int(j * one_side_length)\n",
    "                # currbox raw just take the raw pixels\n",
    "                currbox = board[lc:int(lc+one_side_length), rc:int(rc+one_side_length)]\n",
    "                \n",
    "\n",
    "                margin = int(currbox.shape[0] / 2.5)    \n",
    "                # get bounding box, input the scanning region\n",
    "                left, top, right, bottom = find_bounding_box(currbox, [margin, margin], \n",
    "                                                             [currbox.shape[0] - margin, currbox.shape[1] - margin]) \n",
    "                # there is no object in the current box (set everything to black)\n",
    "                if left == top and right == bottom:\n",
    "                    currbox = np.zeros((28,28))\n",
    "                # crop the digits in the image\n",
    "                else:\n",
    "                    currbox = currbox[top:bottom + 2, left:right + 2]\n",
    "                    # center and pad the images\n",
    "                    currbox = scale_and_centre(currbox, 28,4)\n",
    "                    # binary tresholding\n",
    "                    currbox = cv2.threshold(currbox,80, 255, cv2.THRESH_BINARY)[1]\n",
    "\n",
    "                # add them to the array row wise\n",
    "                temp.append(currbox)            \n",
    "        board_arr.append(temp)\n",
    "\n",
    "    board_arr = np.array(board_arr)\n",
    "    return board_arr"
   ]
  },
  {
   "cell_type": "code",
   "execution_count": 10,
   "metadata": {},
   "outputs": [],
   "source": [
    "def load_model(model_path = 'digit_recognizer_best.h5'):    \n",
    "    # load from saved pre-trained model (LeNet-5 Architecture modified)\n",
    "    model = tf.keras.models.load_model(model_path)\n",
    "    return model"
   ]
  },
  {
   "cell_type": "code",
   "execution_count": 11,
   "metadata": {},
   "outputs": [],
   "source": [
    "# convert into numpy array\n",
    "def convert_board_to_numpy(board_arr, model):\n",
    "    sudoku_board = []\n",
    "\n",
    "    for i in range(board_arr.shape[0]):\n",
    "        temp = []\n",
    "        for j in range(board_arr.shape[1]):\n",
    "            if len(np.where(board_arr[i][j][7:17, 7:17].ravel() == 0)[0])/100 > 0.8:  # percentage of 0 which is black\n",
    "                temp.append(0)\n",
    "            else:\n",
    "                curr_box = board_arr[i][j].reshape(1,28,28,1) / 255\n",
    "                y_pred = np.argmax(model.predict(curr_box), axis=-1)[0]\n",
    "                if y_pred == 0:\n",
    "                    curr_pred = model.predict(curr_box).ravel()\n",
    "                    maxs_idx = curr_pred.argsort()[-2:]\n",
    "                    y_pred = maxs_idx[0]\n",
    "                temp.append(y_pred)\n",
    "\n",
    "        sudoku_board.append(temp)\n",
    "    \n",
    "    return sudoku_board"
   ]
  },
  {
   "cell_type": "markdown",
   "metadata": {},
   "source": [
    "#### Sudoku Methods"
   ]
  },
  {
   "cell_type": "code",
   "execution_count": 39,
   "metadata": {},
   "outputs": [],
   "source": [
    "# sets up sudoku board\n",
    "def cross(A, B):\n",
    "    \"Cross product of elements in A and elements in B.\"\n",
    "    return [a+b for a in A for b in B]\n",
    "\n",
    "digits   = '123456789'\n",
    "rows     = 'ABCDEFGHI'\n",
    "cols     = digits\n",
    "squares  = cross(rows, cols)\n",
    "unitlist = ([cross(rows, c) for c in cols] +\n",
    "            [cross(r, cols) for r in rows] +\n",
    "            [cross(rs, cs) for rs in ('ABC','DEF','GHI') for cs in ('123','456','789')])\n",
    "units = dict((s, [u for u in unitlist if s in u]) \n",
    "             for s in squares)\n",
    "peers = dict((s, set(sum(units[s],[]))-set([s]))\n",
    "             for s in squares)"
   ]
  },
  {
   "cell_type": "code",
   "execution_count": 40,
   "metadata": {},
   "outputs": [],
   "source": [
    "# sudoku methods\n",
    "def parse_grid(grid):\n",
    "    \"\"\"Convert grid to a dict of possible values, {square: digits}, or\n",
    "    return False if a contradiction is detected.\"\"\"\n",
    "    ## To start, every square can be any digit; then assign values from the grid.\n",
    "    values = dict((s, digits) for s in squares)\n",
    "    for s,d in grid_values(grid).items():\n",
    "        if d in digits and not assign(values, s, d):\n",
    "            return False ## (Fail if we can't assign d to square s.)\n",
    "    return values\n",
    "\n",
    "def grid_values(grid):\n",
    "    \"Convert grid into a dict of {square: char} with '0' or '.' for empties.\"\n",
    "    chars = [c for c in grid if c in digits or c in '0.']\n",
    "    assert len(chars) == 81\n",
    "    return dict(zip(squares, chars))"
   ]
  },
  {
   "cell_type": "code",
   "execution_count": 41,
   "metadata": {},
   "outputs": [],
   "source": [
    "def assign(values, s, d):\n",
    "    \"\"\"Eliminate all the other values (except d) from values[s] and propagate.\n",
    "    Return values, except return False if a contradiction is detected.\"\"\"\n",
    "    other_values = values[s].replace(d, '')\n",
    "    if all(eliminate(values, s, d2) for d2 in other_values):\n",
    "        return values\n",
    "    else:\n",
    "        return False\n",
    "\n",
    "def eliminate(values, s, d):\n",
    "    \"\"\"Eliminate d from values[s]; propagate when values or places <= 2.\n",
    "    Return values, except return False if a contradiction is detected.\"\"\"\n",
    "    if d not in values[s]:\n",
    "        return values ## Already eliminated\n",
    "    values[s] = values[s].replace(d,'')\n",
    "    ## (1) If a square s is reduced to one value d2, then eliminate d2 from the peers.\n",
    "    if len(values[s]) == 0:\n",
    "        return False ## Contradiction: removed last value\n",
    "    elif len(values[s]) == 1:\n",
    "        d2 = values[s]\n",
    "        if not all(eliminate(values, s2, d2) for s2 in peers[s]):\n",
    "            return False\n",
    "    ## (2) If a unit u is reduced to only one place for a value d, then put it there.\n",
    "    for u in units[s]:\n",
    "        dplaces = [s for s in u if d in values[s]]\n",
    "    if len(dplaces) == 0:\n",
    "        return False ## Contradiction: no place for this value\n",
    "    elif len(dplaces) == 1:\n",
    "        # d can only be in one place in unit; assign it there\n",
    "        if not assign(values, dplaces[0], d):\n",
    "            return False\n",
    "    return values"
   ]
  },
  {
   "cell_type": "code",
   "execution_count": 42,
   "metadata": {},
   "outputs": [],
   "source": [
    "# display board\n",
    "def display(values):\n",
    "    \"Display these values as a 2-D grid.\"\n",
    "    width = 1+max(len(values[s]) for s in squares)\n",
    "    line = '+'.join(['-'*(width*3)]*3)\n",
    "    for r in rows:\n",
    "        print (''.join(values[r+c].center(width)+('|' if c in '36' else '')\n",
    "                      for c in cols))\n",
    "        if r in 'CF': print (line)\n",
    "    print()"
   ]
  },
  {
   "cell_type": "code",
   "execution_count": 43,
   "metadata": {},
   "outputs": [],
   "source": [
    "# solve sudoku\n",
    "# https://norvig.com/sudoku.html\n",
    "def solve(grid): \n",
    "    return search(parse_grid(grid))\n",
    "\n",
    "def search(values):\n",
    "    \"Using depth-first search and propagation, try all possible values.\"\n",
    "    if values is False:\n",
    "        return False ## Failed earlier\n",
    "    if all(len(values[s]) == 1 for s in squares): \n",
    "        return values ## Solved!\n",
    "    ## Chose the unfilled square s with the fewest possibilities\n",
    "    n,s = min((len(values[s]), s) for s in squares if len(values[s]) > 1)\n",
    "    return some(search(assign(values.copy(), s, d)) for d in values[s])\n",
    "\n",
    "def some(seq):\n",
    "    \"Return some element of seq that is true.\"\n",
    "    for e in seq:\n",
    "        if e: return e\n",
    "    return False"
   ]
  },
  {
   "cell_type": "code",
   "execution_count": 45,
   "metadata": {},
   "outputs": [
    {
     "name": "stdout",
     "output_type": "stream",
     "text": [
      "valid sudoku images:  [0, 1]\n",
      "3 4 1 |2 8 6 |5 7 9 \n",
      "2 5 6 |1 7 9 |3 4 8 \n",
      "8 9 7 |4 5 3 |1 2 6 \n",
      "------+------+------\n",
      "1 2 3 |7 4 8 |6 9 5 \n",
      "7 8 9 |3 6 5 |2 1 4 \n",
      "4 6 5 |9 1 2 |7 8 3 \n",
      "------+------+------\n",
      "5 1 2 |6 9 4 |8 3 7 \n",
      "6 3 4 |8 2 7 |9 5 1 \n",
      "9 7 8 |5 3 1 |4 6 2 \n",
      "\n",
      "error in sudoku read\n"
     ]
    }
   ],
   "source": [
    "gaussian_blur_tresh = 5\n",
    "\n",
    "# does initial preprocessing of images and obtain up to 5 boxes for sudoku\n",
    "# orig is for the non-preprocessed image\n",
    "cropped_arr, cropped_arr_orig, bbox_arr = initial_preprocess('dataset/image0.jpg', gaussian_blur_tresh)\n",
    "\n",
    "# find edges of each of the boxes\n",
    "all_edges = find_edges(cropped_arr)\n",
    "\n",
    "# eliminate invalid sudoku boxes\n",
    "valid_sudoku_images = find_valid_sudoku(all_edges, cropped_arr_orig)\n",
    "print('valid sudoku images: ', valid_sudoku_images)\n",
    "\n",
    "# take out unneded boxes\n",
    "cropped_arr = [x for idx, x in enumerate(cropped_arr) if idx in valid_sudoku_images]\n",
    "cropped_arr_orig = [x for idx, x in enumerate(cropped_arr_orig) if idx in valid_sudoku_images]\n",
    "\n",
    "# warp and transform on original image (not preprocessed)\n",
    "final_proc, all_M = warped_image(all_edges, cropped_arr_orig, valid_sudoku_images)\n",
    "\n",
    "# now preprocess the cropped and warped image\n",
    "final_proc = post_process_warped(final_proc, gaussian_blur_tresh)\n",
    "\n",
    "# split the board into cells and clean the images\n",
    "board_arr = process_to_cell(final_proc)\n",
    "\n",
    "# load model\n",
    "model = load_model('digit_recognizer_best.h5')\n",
    "\n",
    "# convert board into numpy array\n",
    "sudoku_board = convert_board_to_numpy(board_arr, model)\n",
    "\n",
    "# manual correction\n",
    "sudoku_board[0][4] = 8\n",
    "sudoku_board[0][37] = 8\n",
    "sudoku_board[0][66]= 8\n",
    "\n",
    "# iterate through all sudoku board\n",
    "for elem in sudoku_board:\n",
    "    a_str = ''.join(str(x) for x in elem)\n",
    "    try:\n",
    "        display(solve(a_str))\n",
    "    except:\n",
    "        print('error in sudoku read')"
   ]
  },
  {
   "cell_type": "code",
   "execution_count": 46,
   "metadata": {},
   "outputs": [
    {
     "name": "stdout",
     "output_type": "stream",
     "text": [
      "3 4 1 |2 8 6 |5 7 9 \n",
      "2 5 6 |1 7 9 |3 4 8 \n",
      "8 9 7 |4 5 3 |1 2 6 \n",
      "------+------+------\n",
      "1 2 3 |7 4 8 |6 9 5 \n",
      "7 8 9 |3 6 5 |2 1 4 \n",
      "4 6 5 |9 1 2 |7 8 3 \n",
      "------+------+------\n",
      "5 1 2 |6 9 4 |8 3 7 \n",
      "6 3 4 |8 2 7 |9 5 1 \n",
      "9 7 8 |5 3 1 |4 6 2 \n",
      "\n"
     ]
    }
   ],
   "source": [
    "display(solve('300286009050179040000000000103040605780305014405010703000000000030827050900531002'))"
   ]
  },
  {
   "cell_type": "code",
   "execution_count": 24,
   "metadata": {},
   "outputs": [
    {
     "name": "stdout",
     "output_type": "stream",
     "text": [
      "0\n"
     ]
    }
   ],
   "source": [
    "print(sudoku_board[1][1])"
   ]
  },
  {
   "cell_type": "code",
   "execution_count": 19,
   "metadata": {},
   "outputs": [
    {
     "data": {
      "text/plain": [
       "<matplotlib.image.AxesImage at 0x1b7ddbd20c8>"
      ]
     },
     "execution_count": 19,
     "metadata": {},
     "output_type": "execute_result"
    },
    {
     "data": {
      "image/png": "[encoded data removed]",
      "text/plain": [
       "<Figure size 432x288 with 1 Axes>"
      ]
     },
     "metadata": {
      "needs_background": "light"
     },
     "output_type": "display_data"
    }
   ],
   "source": [
    "plt.imshow(final_proc[1], 'gray')"
   ]
  },
  {
   "cell_type": "code",
   "execution_count": 20,
   "metadata": {},
   "outputs": [
    {
     "data": {
      "image/png": "[encoded data removed]",
      "text/plain": [
       "<Figure size 720x720 with 81 Axes>"
      ]
     },
     "metadata": {
      "needs_background": "light"
     },
     "output_type": "display_data"
    }
   ],
   "source": [
    "fig, ax =  plt.subplots(9,9, figsize=(10,10))\n",
    "ax = ax.ravel()\n",
    "\n",
    "for idx in range(81):    \n",
    "    ax[idx].imshow(board_arr[1][idx], 'gray')"
   ]
  },
  {
   "cell_type": "code",
   "execution_count": null,
   "metadata": {},
   "outputs": [],
   "source": []
  },
  {
   "cell_type": "code",
   "execution_count": 21,
   "metadata": {},
   "outputs": [],
   "source": [
    "\n",
    "blank = cv2.imread('blank_grid.jpg')\n",
    "blank = cv2.resize(blank, (270,270))\n",
    "\n",
    "\n",
    "for i in range(9):\n",
    "    for j in range(9):\n",
    "        cv2.putText(blank,\"0\", (6 + (i*30), 25 + (j*30)), cv2.FONT_HERSHEY_SIMPLEX, 1, (0,255,0), 2);"
   ]
  },
  {
   "cell_type": "code",
   "execution_count": 22,
   "metadata": {},
   "outputs": [
    {
     "data": {
      "text/plain": [
       "<matplotlib.image.AxesImage at 0x1b7e0b844c8>"
      ]
     },
     "execution_count": 22,
     "metadata": {},
     "output_type": "execute_result"
    },
    {
     "data": {
      "image/png": "[encoded data removed]",
      "text/plain": [
       "<Figure size 432x288 with 1 Axes>"
      ]
     },
     "metadata": {
      "needs_background": "light"
     },
     "output_type": "display_data"
    }
   ],
   "source": [
    "plt.imshow(blank)"
   ]
  },
  {
   "cell_type": "code",
   "execution_count": null,
   "metadata": {},
   "outputs": [],
   "source": []
  },
  {
   "cell_type": "code",
   "execution_count": 36,
   "metadata": {},
   "outputs": [],
   "source": [
    "a = '[[3 0 0 0 0 0 0 0 6] [0 2 4 3 0 7 5 6 0] [0 9 7 4 0 8 1 2 0] [5 0 6 0 0 0 3 9 2] \\\n",
    " [0 9 0 9 7 0 0 9 0] \\\n",
    " [6 0 9 0 0 9 6 0 7] \\\n",
    " [0 0 1 6 0 9 2 0 0] \\\n",
    " [4 5 0 2 4 3 0 6 0] \\\n",
    " [9 0 0 4 0 9 0 0 6]]'\n",
    "\n",
    "board_list = []\n",
    "for elem in a:\n",
    "    if elem == ' ':\n",
    "        pass\n",
    "    elif elem in ['0', '1', '2', '3', '4', '5', '6', '7', '8', '9']:\n",
    "        board_list.append(elem)\n",
    "\n",
    "board_list = np.array(board_list).astype(np.uint8).reshape(9,9)"
   ]
  },
  {
   "cell_type": "code",
   "execution_count": 38,
   "metadata": {},
   "outputs": [
    {
     "data": {
      "text/plain": [
       "array([[3, 0, 0, 0, 0, 0, 0, 0, 6],\n",
       "       [0, 2, 4, 3, 0, 7, 5, 6, 0],\n",
       "       [0, 9, 7, 4, 0, 8, 1, 2, 0],\n",
       "       [5, 0, 6, 0, 0, 0, 3, 9, 2],\n",
       "       [0, 9, 0, 9, 7, 0, 0, 9, 0],\n",
       "       [6, 0, 9, 0, 0, 9, 6, 0, 7],\n",
       "       [0, 0, 1, 6, 0, 9, 2, 0, 0],\n",
       "       [4, 5, 0, 2, 4, 3, 0, 6, 0],\n",
       "       [9, 0, 0, 4, 0, 9, 0, 0, 6]], dtype=uint8)"
      ]
     },
     "execution_count": 38,
     "metadata": {},
     "output_type": "execute_result"
    }
   ],
   "source": [
    "board_list"
   ]
  },
  {
   "cell_type": "code",
   "execution_count": null,
   "metadata": {},
   "outputs": [],
   "source": []
  },
  {
   "cell_type": "code",
   "execution_count": null,
   "metadata": {},
   "outputs": [],
   "source": []
  },
  {
   "cell_type": "code",
   "execution_count": null,
   "metadata": {},
   "outputs": [],
   "source": []
  },
  {
   "cell_type": "code",
   "execution_count": null,
   "metadata": {},
   "outputs": [],
   "source": []
  },
  {
   "cell_type": "code",
   "execution_count": null,
   "metadata": {},
   "outputs": [],
   "source": []
  },
  {
   "cell_type": "code",
   "execution_count": null,
   "metadata": {},
   "outputs": [],
   "source": []
  }
 ],
 "metadata": {
  "kernelspec": {
   "display_name": "Python 3",
   "language": "python",
   "name": "python3"
  },
  "language_info": {
   "codemirror_mode": {
    "name": "ipython",
    "version": 3
   },
   "file_extension": ".py",
   "mimetype": "text/x-python",
   "name": "python",
   "nbconvert_exporter": "python",
   "pygments_lexer": "ipython3",
   "version": "3.7.6"
  }
 },
 "nbformat": 4,
 "nbformat_minor": 4
}
